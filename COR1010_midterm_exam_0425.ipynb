{
 "cells": [
  {
   "cell_type": "markdown",
   "metadata": {},
   "source": [
    "# COR1010 Introduction to AI Programming\n",
    "\n",
    "Student Name:\n",
    "\n",
    "Student Id:"
   ]
  },
  {
   "cell_type": "code",
   "execution_count": 242,
   "metadata": {},
   "outputs": [
    {
     "name": "stdout",
     "output_type": "stream",
     "text": [
      "Requirement already satisfied: numpy in c:\\users\\d105-053\\appdata\\local\\programs\\python\\python312\\lib\\site-packages (1.26.4)\n",
      "Requirement already satisfied: matplotlib in c:\\users\\d105-053\\appdata\\local\\programs\\python\\python312\\lib\\site-packages (3.8.4)\n",
      "Requirement already satisfied: contourpy>=1.0.1 in c:\\users\\d105-053\\appdata\\local\\programs\\python\\python312\\lib\\site-packages (from matplotlib) (1.2.1)\n",
      "Requirement already satisfied: cycler>=0.10 in c:\\users\\d105-053\\appdata\\local\\programs\\python\\python312\\lib\\site-packages (from matplotlib) (0.12.1)\n",
      "Requirement already satisfied: fonttools>=4.22.0 in c:\\users\\d105-053\\appdata\\local\\programs\\python\\python312\\lib\\site-packages (from matplotlib) (4.50.0)\n",
      "Requirement already satisfied: kiwisolver>=1.3.1 in c:\\users\\d105-053\\appdata\\local\\programs\\python\\python312\\lib\\site-packages (from matplotlib) (1.4.5)\n",
      "Requirement already satisfied: packaging>=20.0 in c:\\users\\d105-053\\appdata\\local\\programs\\python\\python312\\lib\\site-packages (from matplotlib) (24.0)\n",
      "Requirement already satisfied: pillow>=8 in c:\\users\\d105-053\\appdata\\local\\programs\\python\\python312\\lib\\site-packages (from matplotlib) (10.3.0)\n",
      "Requirement already satisfied: pyparsing>=2.3.1 in c:\\users\\d105-053\\appdata\\local\\programs\\python\\python312\\lib\\site-packages (from matplotlib) (3.1.2)\n",
      "Requirement already satisfied: python-dateutil>=2.7 in c:\\users\\d105-053\\appdata\\local\\programs\\python\\python312\\lib\\site-packages (from matplotlib) (2.9.0.post0)\n",
      "Requirement already satisfied: six>=1.5 in c:\\users\\d105-053\\appdata\\local\\programs\\python\\python312\\lib\\site-packages (from python-dateutil>=2.7->matplotlib) (1.16.0)\n"
     ]
    }
   ],
   "source": [
    "# Do not edit this cell.\n",
    "# Just run the cell. The two packages, numpy and matplotlib, will be installed by the command.\n",
    "# You don't have to do anything with this cell.\n",
    "# Install the two modules required for the exam.\n",
    "! pip install numpy matplotlib"
   ]
  },
  {
   "cell_type": "code",
   "execution_count": 243,
   "metadata": {},
   "outputs": [],
   "source": [
    "import numpy as np \n",
    "import matplotlib.pyplot as plt "
   ]
  },
  {
   "cell_type": "markdown",
   "metadata": {},
   "source": [
    "# 1. Make a function that \n",
    "1. accepts three numbers\n",
    "2. add them all\n",
    "3. return the result of addition \n",
    "\n",
    "* The function name must be `add3`."
   ]
  },
  {
   "cell_type": "code",
   "execution_count": 244,
   "metadata": {},
   "outputs": [],
   "source": [
    "def add3(a, b, c):\n",
    "    y = (a + b +c)\n",
    "    return y"
   ]
  },
  {
   "cell_type": "code",
   "execution_count": 245,
   "metadata": {},
   "outputs": [
    {
     "name": "stdout",
     "output_type": "stream",
     "text": [
      "6 True\n"
     ]
    }
   ],
   "source": [
    "result = add3(1, 2, 3)\n",
    "print(result, result == sum([1, 2, 3])) # if the output is False, then your function is wrong"
   ]
  },
  {
   "cell_type": "markdown",
   "metadata": {},
   "source": [
    "# 2. Plot a curve \n",
    "You are asked to draw a logistic curve\n",
    "$$\n",
    "    f(x) = L / (1 + exp( - k * (x - b)))\n",
    "$$\n",
    "where $L$, $k$, and $b$ are three parameters that determin the shape of the curve.\n",
    "* Draw the curve for $L=1$, $k=2$, $b = 1$ for the $x$ range $[-6, 6]$."
   ]
  },
  {
   "cell_type": "code",
   "execution_count": 246,
   "metadata": {},
   "outputs": [],
   "source": [
    "# put your code here\n",
    "\n",
    "def lc(x, L, k, b):\n",
    "    y = L / (1 + np.exp( - k * (x - b)))\n",
    "    return y"
   ]
  },
  {
   "cell_type": "code",
   "execution_count": 247,
   "metadata": {},
   "outputs": [
    {
     "data": {
      "text/plain": [
       "Text(0, 0.5, 'yvalues')"
      ]
     },
     "execution_count": 247,
     "metadata": {},
     "output_type": "execute_result"
    },
    {
     "data": {
      "image/png": "[encoded data removed]",
      "text/plain": [
       "<Figure size 640x480 with 1 Axes>"
      ]
     },
     "metadata": {},
     "output_type": "display_data"
    }
   ],
   "source": [
    "xvalues = np.linspace(-6, 6, 500)\n",
    "yvalues = []\n",
    "for x in xvalues:\n",
    "    y = lc(x, 1, 2, 1)\n",
    "    yvalues.append(y)\n",
    "plt.plot(xvalues, yvalues, \"--\")\n",
    "plt.title(\"Logistic Curve\")\n",
    "plt.xlabel(\"xvalues\")\n",
    "plt.ylabel(\"yvalues\")"
   ]
  },
  {
   "cell_type": "markdown",
   "metadata": {},
   "source": [
    "# 3. Find maximum\n",
    "Make a function that finds the maximum of array given.\n",
    "- Here, the array `arr` is a numpy array.\n",
    "- You are not allowed to use `arr.max()` function to find the maximum value. Use a `for` loop and `if` statement."
   ]
  },
  {
   "cell_type": "code",
   "execution_count": 248,
   "metadata": {},
   "outputs": [],
   "source": [
    "def find_maximum(arr): \n",
    "    max = arr[0]\n",
    "    for i in arr:\n",
    "        if max < i:\n",
    "            max = i\n",
    "    return max"
   ]
  },
  {
   "cell_type": "code",
   "execution_count": 249,
   "metadata": {},
   "outputs": [
    {
     "name": "stdout",
     "output_type": "stream",
     "text": [
      "Maximum of [1, 2, 3, 4] is  4\n",
      "True\n"
     ]
    }
   ],
   "source": [
    "# test of the function\n",
    "\n",
    "print(\"Maximum of [1, 2, 3, 4] is \", find_maximum([1,2,3,4])) # Should print out 4\n",
    "\n",
    "array = np.random.normal(loc=0, scale=2, size=1000)\n",
    "\n",
    "maximum = find_maximum(array)\n",
    "\n",
    "print(maximum == array.max())  # if the output is False, then your program is wrong."
   ]
  },
  {
   "cell_type": "markdown",
   "metadata": {},
   "source": [
    "# 4. Find minimum\n",
    "Make a function that finds the minimum of array given.\n",
    "- Here, the array `arr` is a numpy array.\n",
    "- You are not allowed to use `arr.min()` function to find the minimum value. Use a `for` loop and `if` statement."
   ]
  },
  {
   "cell_type": "code",
   "execution_count": 250,
   "metadata": {},
   "outputs": [],
   "source": [
    "def find_minimum(arr): \n",
    "    min = arr[0]\n",
    "    for j in arr:\n",
    "        if min > j:\n",
    "            min = j\n",
    "    return min"
   ]
  },
  {
   "cell_type": "code",
   "execution_count": 251,
   "metadata": {},
   "outputs": [
    {
     "name": "stdout",
     "output_type": "stream",
     "text": [
      "Minimum of [1, 2, 3, 4] is  1\n",
      "True\n"
     ]
    }
   ],
   "source": [
    "# test of the function\n",
    "\n",
    "print(\"Minimum of [1, 2, 3, 4] is \", find_minimum([1,2,3,4])) # Should print out 1\n",
    "\n",
    "array = np.random.normal(loc=0, scale=2, size=1000)\n",
    "\n",
    "min_value = find_minimum(array)\n",
    "\n",
    "print(min_value == array.min())  # if the output is False, then your program is wrong."
   ]
  },
  {
   "cell_type": "markdown",
   "metadata": {},
   "source": [
    "# 5. Make a program.\n",
    "```\n",
    "Use two for loops, one of them nested, to print the following 20x5 rectangle:\n",
    "* * * * * * * * * * * * * * * * * * * *\n",
    "* * * * * * * * * * * * * * * * * * * *\n",
    "* * * * * * * * * * * * * * * * * * * *\n",
    "* * * * * * * * * * * * * * * * * * * *\n",
    "* * * * * * * * * * * * * * * * * * * *\n",
    "```"
   ]
  },
  {
   "cell_type": "code",
   "execution_count": 252,
   "metadata": {},
   "outputs": [
    {
     "name": "stdout",
     "output_type": "stream",
     "text": [
      "\n",
      "* * * * * * * * * * * * * * * * * * * * \n",
      "* * * * * * * * * * * * * * * * * * * * \n",
      "* * * * * * * * * * * * * * * * * * * * \n",
      "* * * * * * * * * * * * * * * * * * * * \n",
      "* * * * * * * * * * * * * * * * * * * * "
     ]
    }
   ],
   "source": [
    "# your python program must be in this cell\n",
    "\n",
    "for i in range(5):\n",
    "   print()\n",
    "   for j in range(20):\n",
    "     print(\"*\", end= \" \")\n"
   ]
  },
  {
   "cell_type": "markdown",
   "metadata": {},
   "source": [
    "# 6. Make a program.\n",
    "```\n",
    "Write code that will print the following:\n",
    "0 1 2 3 4 5 6 7 8 9\n",
    "0 1 2 3 4 5 6 7 8 9\n",
    "0 1 2 3 4 5 6 7 8 9\n",
    "0 1 2 3 4 5 6 7 8 9\n",
    "0 1 2 3 4 5 6 7 8 9\n",
    "0 1 2 3 4 5 6 7 8 9\n",
    "0 1 2 3 4 5 6 7 8 9\n",
    "0 1 2 3 4 5 6 7 8 9\n",
    "0 1 2 3 4 5 6 7 8 9\n",
    "0 1 2 3 4 5 6 7 8 9\n",
    "```"
   ]
  },
  {
   "cell_type": "code",
   "execution_count": 253,
   "metadata": {},
   "outputs": [
    {
     "name": "stdout",
     "output_type": "stream",
     "text": [
      "\n",
      "0 1 2 3 4 5 6 7 8 9 \n",
      "0 1 2 3 4 5 6 7 8 9 \n",
      "0 1 2 3 4 5 6 7 8 9 \n",
      "0 1 2 3 4 5 6 7 8 9 \n",
      "0 1 2 3 4 5 6 7 8 9 \n",
      "0 1 2 3 4 5 6 7 8 9 \n",
      "0 1 2 3 4 5 6 7 8 9 \n",
      "0 1 2 3 4 5 6 7 8 9 \n",
      "0 1 2 3 4 5 6 7 8 9 \n",
      "0 1 2 3 4 5 6 7 8 9 "
     ]
    }
   ],
   "source": [
    "# your python program must be in this cell\n",
    "for j in range(10):\n",
    "    print()\n",
    "    for i in range(10):\n",
    "        print (i, end= \" \")\n"
   ]
  },
  {
   "cell_type": "markdown",
   "metadata": {},
   "source": [
    "# 7. Make a program.\n",
    "```\n",
    "Write code that will print the following:\n",
    "0\n",
    "0 1\n",
    "0 1 2\n",
    "0 1 2 3\n",
    "0 1 2 3 4\n",
    "0 1 2 3 4 5\n",
    "0 1 2 3 4 5 6\n",
    "0 1 2 3 4 5 6 7\n",
    "0 1 2 3 4 5 6 7 8\n",
    "0 1 2 3 4 5 6 7 8 9\n",
    "```"
   ]
  },
  {
   "cell_type": "code",
   "execution_count": 254,
   "metadata": {},
   "outputs": [
    {
     "name": "stdout",
     "output_type": "stream",
     "text": [
      "\n",
      "0 \n",
      "0 1 \n",
      "0 1 2 \n",
      "0 1 2 3 \n",
      "0 1 2 3 4 \n",
      "0 1 2 3 4 5 \n",
      "0 1 2 3 4 5 6 \n",
      "0 1 2 3 4 5 6 7 \n",
      "0 1 2 3 4 5 6 7 8 \n",
      "0 1 2 3 4 5 6 7 8 9 \n"
     ]
    }
   ],
   "source": [
    "# your python program must be in this cell\n",
    "\n",
    "for i in range (11):\n",
    "    for j in range(i):\n",
    "        print (j, end= \" \")\n",
    "    print( )\n"
   ]
  },
  {
   "cell_type": "markdown",
   "metadata": {},
   "source": [
    "# 8. Make a program.\n",
    "```\n",
    "Write code that will print the following (Getting the alignment is hard, at least get the numbers):\n",
    "1   2   3   4   5   6   7   8   9\n",
    "2   4   6   8  10  12  14  16  18\n",
    "3   6   9  12  15  18  21  24  27\n",
    "4   8  12  16  20  24  28  32  36\n",
    "5  10  15  20  25  30  35  40  45\n",
    "6  12  18  24  30  36  42  48  54\n",
    "7  14  21  28  35  42  49  56  63\n",
    "8  16  24  32  40  48  56  64  72\n",
    "9  18  27  36  45  54  63  72  81\n",
    "```"
   ]
  },
  {
   "cell_type": "code",
   "execution_count": 255,
   "metadata": {},
   "outputs": [
    {
     "name": "stdout",
     "output_type": "stream",
     "text": [
      " 1  2  3  4  5  6  7  8  9 \n",
      " 2  4  6  8 10 12 14 16 18 \n",
      " 3  6  9 12 15 18 21 24 27 \n",
      " 4  8 12 16 20 24 28 32 36 \n",
      " 5 10 15 20 25 30 35 40 45 \n",
      " 6 12 18 24 30 36 42 48 54 \n",
      " 7 14 21 28 35 42 49 56 63 \n",
      " 8 16 24 32 40 48 56 64 72 \n",
      " 9 18 27 36 45 54 63 72 81 \n"
     ]
    }
   ],
   "source": [
    "# your python program must be in this cell\n",
    "\n",
    "for i in range (1, 10):\n",
    "  for j in range (1, 10):\n",
    "      if i*j < 10:\n",
    "        print(\" \", end= \"\")\n",
    "      print (i*j, end= \" \")\n",
    "  print ()\n",
    "\n",
    "    "
   ]
  },
  {
   "cell_type": "markdown",
   "metadata": {},
   "source": [
    "# 9. Make a program.\n",
    "```\n",
    "Write code that will print the following:\n",
    "\n",
    "                  1\n",
    "                1 2 1\n",
    "              1 2 3 2 1\n",
    "            1 2 3 4 3 2 1\n",
    "          1 2 3 4 5 4 3 2 1\n",
    "        1 2 3 4 5 6 5 4 3 2 1\n",
    "      1 2 3 4 5 6 7 6 5 4 3 2 1\n",
    "    1 2 3 4 5 6 7 8 7 6 5 4 3 2 1\n",
    "  1 2 3 4 5 6 7 8 9 8 7 6 5 4 3 2 1\n",
    "\n",
    "Tip, first write code to print:\n",
    "\n",
    "1\n",
    "1 2\n",
    "1 2 3\n",
    "1 2 3 4\n",
    "1 2 3 4 5\n",
    "1 2 3 4 5 6\n",
    "1 2 3 4 5 6 7\n",
    "1 2 3 4 5 6 7 8\n",
    "1 2 3 4 5 6 7 8 9\n",
    "\n",
    "Then write code to print:\n",
    "\n",
    "1\n",
    "1 2 1\n",
    "1 2 3 2 1\n",
    "1 2 3 4 3 2 1\n",
    "1 2 3 4 5 4 3 2 1\n",
    "1 2 3 4 5 6 5 4 3 2 1\n",
    "1 2 3 4 5 6 7 6 5 4 3 2 1\n",
    "1 2 3 4 5 6 7 8 7 6 5 4 3 2 1\n",
    "1 2 3 4 5 6 7 8 9 8 7 6 5 4 3 2 1\n",
    "  \n",
    "Then finish by adding spaces to print the final answer.\n",
    "```"
   ]
  },
  {
   "cell_type": "code",
   "execution_count": 298,
   "metadata": {},
   "outputs": [
    {
     "name": "stdout",
     "output_type": "stream",
     "text": [
      "\n",
      "1 \n",
      "1 2 \n",
      "1 2 3 \n",
      "1 2 3 4 \n",
      "1 2 3 4 5 \n",
      "1 2 3 4 5 6 \n",
      "1 2 3 4 5 6 7 \n",
      "1 2 3 4 5 6 7 8 \n",
      "1 2 3 4 5 6 7 8 9 \n"
     ]
    }
   ],
   "source": [
    "# your python program must be in this cell\n",
    "\n",
    "for i in range(1, 11):\n",
    "    for j in range(1,i):\n",
    "        print (j, end= \" \")\n",
    "    print()"
   ]
  },
  {
   "cell_type": "markdown",
   "metadata": {},
   "source": [
    "# 10. Unique letters in a string\n",
    "\n",
    "You are given a string below.\n",
    "* Make a python program that finds and returns a list of unique letters of the input string."
   ]
  },
  {
   "cell_type": "code",
   "execution_count": 257,
   "metadata": {},
   "outputs": [],
   "source": [
    "def find_unique_letters(string):\n",
    "    uniques = []\n",
    "    for letter in string:\n",
    "        if letter not in uniques:\n",
    "            uniques.append(letter)\n",
    "    return uniques"
   ]
  },
  {
   "cell_type": "code",
   "execution_count": 258,
   "metadata": {},
   "outputs": [
    {
     "name": "stdout",
     "output_type": "stream",
     "text": [
      "['M', 'y', ' ', 'L', 'i', 'f', 'e', 'a', 's', 'D', 'o', 'g', '(', 'S', 'w', 'd', 'h', ':', 't', 'l', 'v', 'm', 'u', 'n', ')', 'r', 'c', '1', '2', 'b', '9', '8', '5', ',', '[', ']', 'H', 'ö']\n"
     ]
    }
   ],
   "source": [
    "string = \"My Life as a Dog (Swedish: Mitt liv som hund) is a Swedish drama film which was released to cinemas in Sweden on 12 December 1985,[2] directed by Lasse Hallström\"\n",
    "\n",
    "uniqueLetters = find_unique_letters(string)\n",
    "\n",
    "print(uniqueLetters) # You can at least visually check the result."
   ]
  },
  {
   "cell_type": "markdown",
   "metadata": {},
   "source": [
    "# 11. Make a program that counts the letter 'o'."
   ]
  },
  {
   "cell_type": "code",
   "execution_count": 259,
   "metadata": {},
   "outputs": [],
   "source": [
    "# 11. Make a program that counts letter 'o'.\n",
    "\n",
    "def count_o(string): # How many 'o' characters in the string?\n",
    "    count = 0\n",
    "    for letter in string:\n",
    "        if letter == \"o\":\n",
    "            count += 1\n",
    "    return count "
   ]
  },
  {
   "cell_type": "code",
   "execution_count": 260,
   "metadata": {},
   "outputs": [
    {
     "name": "stdout",
     "output_type": "stream",
     "text": [
      "April is the cruellest month, breeding\n",
      "Lilacs out of the dead land, mixing\n",
      "Memory and desire, stirring\n",
      "Dull roots with spring rain.\n"
     ]
    }
   ],
   "source": [
    "# A string for testing\n",
    "# We can use triple quotation to define a long string in several lines as below.\n",
    "# Do not edit.\n",
    "string_the_waste_land = '''April is the cruellest month, breeding\n",
    "Lilacs out of the dead land, mixing\n",
    "Memory and desire, stirring\n",
    "Dull roots with spring rain.'''\n",
    "\n",
    "print(string_the_waste_land)"
   ]
  },
  {
   "cell_type": "code",
   "execution_count": 261,
   "metadata": {},
   "outputs": [
    {
     "name": "stdout",
     "output_type": "stream",
     "text": [
      "How many do I see 'o' in the string? The answer is 6.\n"
     ]
    }
   ],
   "source": [
    "# Test your program!\n",
    "num_o = count_o (string_the_waste_land)\n",
    "print(f\"How many do I see 'o' in the string? The answer is {num_o}.\") # How many ?"
   ]
  },
  {
   "cell_type": "markdown",
   "metadata": {},
   "source": [
    "# 12. Make a program that counts.\n",
    "The input array contains several integer numbers. Here you are simply asked to make a python program that automatically examine the number of 7's in the array."
   ]
  },
  {
   "cell_type": "code",
   "execution_count": 262,
   "metadata": {},
   "outputs": [],
   "source": [
    "def count_7s(input_array):\n",
    "    count = 0\n",
    "    for numbers in input_array:\n",
    "        if numbers == 7:\n",
    "            count += 1\n",
    "    return count"
   ]
  },
  {
   "cell_type": "code",
   "execution_count": 263,
   "metadata": {},
   "outputs": [
    {
     "name": "stdout",
     "output_type": "stream",
     "text": [
      "input_array =  [3 7 3 6 5 0 7 4 0 3 4 4 0 3 0 0 7 0 9 1]\n",
      "How many 7s do I have? The answer is  3\n"
     ]
    }
   ],
   "source": [
    "input_array = np.array([3, 7, 3, 6, 5, 0, 7, 4, 0, 3, 4, 4, 0, 3, 0, 0, 7, 0, 9, 1])\n",
    "print(\"input_array = \", input_array)\n",
    "\n",
    "found_7 = count_7s(input_array)\n",
    "print(\"How many 7s do I have? The answer is \", found_7) # do you see 3?"
   ]
  },
  {
   "cell_type": "markdown",
   "metadata": {},
   "source": [
    "# 13. Sum of all the numbers in the array\n",
    "Yes, make a function that returns the sum of all the numbers."
   ]
  },
  {
   "cell_type": "code",
   "execution_count": 264,
   "metadata": {},
   "outputs": [],
   "source": [
    "def sum_all (array):\n",
    "    sum_result = 0\n",
    "    for z in array:\n",
    "        sum_result += z\n",
    "    return sum_result"
   ]
  },
  {
   "cell_type": "code",
   "execution_count": 265,
   "metadata": {},
   "outputs": [
    {
     "name": "stdout",
     "output_type": "stream",
     "text": [
      "Let's see three of the numbers: [ 10.74096041   4.7019417  -17.33460174]\n",
      "The total is  -165.77476786367623\n",
      "This is correct?  True\n"
     ]
    }
   ],
   "source": [
    "numbers = np.random.normal(loc=0, scale=10, size=500)\n",
    "print(\"Let's see three of the numbers:\", numbers[:3])\n",
    "\n",
    "total = sum_all(numbers)\n",
    "print(\"The total is \", total)\n",
    "print(\"This is correct? \", total == sum(numbers))  "
   ]
  },
  {
   "cell_type": "markdown",
   "metadata": {},
   "source": [
    "# 14. Average of numbers\n",
    "Now you are to define a function that computes the average of the array. Sometimes, it is also called sample average or sample mean."
   ]
  },
  {
   "cell_type": "code",
   "execution_count": 266,
   "metadata": {},
   "outputs": [],
   "source": [
    "def compute_average(array):\n",
    "    total = 0\n",
    "    average = 0\n",
    "    for n in array:\n",
    "        total += n\n",
    "        average = total / array.size\n",
    "    return average "
   ]
  },
  {
   "cell_type": "code",
   "execution_count": 267,
   "metadata": {},
   "outputs": [
    {
     "name": "stdout",
     "output_type": "stream",
     "text": [
      "Numbers:  [ 4  5 -3  6 -1 -1 -1  2 -2  1  3  1  4  6 -3  5  6]\n",
      "How many numbers are there in the array? It is  17\n",
      "The average of them is  1.8823529411764706\n",
      "This should be almost the same as: 1.8823529411764706\n"
     ]
    }
   ],
   "source": [
    "numbers = np.random.randint(low=-5, high=7, size=17)\n",
    "\n",
    "print(\"Numbers: \", numbers)\n",
    "print(\"How many numbers are there in the array? It is \", numbers.size)\n",
    "\n",
    "avg = compute_average(numbers)\n",
    "\n",
    "print(\"The average of them is \", avg)\n",
    "print(\"This should be almost the same as:\", numbers.mean())"
   ]
  },
  {
   "cell_type": "markdown",
   "metadata": {},
   "source": [
    "End."
   ]
  }
 ],
 "metadata": {
  "kernelspec": {
   "display_name": "Python 3",
   "language": "python",
   "name": "python3"
  },
  "language_info": {
   "codemirror_mode": {
    "name": "ipython",
    "version": 3
   },
   "file_extension": ".py",
   "mimetype": "text/x-python",
   "name": "python",
   "nbconvert_exporter": "python",
   "pygments_lexer": "ipython3",
   "version": "3.12.2"
  }
 },
 "nbformat": 4,
 "nbformat_minor": 2
}
