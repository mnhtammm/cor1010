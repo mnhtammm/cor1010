{
 "cells": [
  {
   "cell_type": "code",
   "execution_count": 148,
   "metadata": {},
   "outputs": [],
   "source": [
    "import numpy as np\n",
    "import matplotlib.pyplot as plt"
   ]
  },
  {
   "cell_type": "code",
   "execution_count": 149,
   "metadata": {},
   "outputs": [
    {
     "data": {
      "text/plain": [
       "(array([72, 55, 21, 19, 59, 24,  5, 69, 24, 37]), 72, 5)"
      ]
     },
     "execution_count": 149,
     "metadata": {},
     "output_type": "execute_result"
    }
   ],
   "source": [
    "numbers = np.random.randint(1, 100, size = 10)\n",
    "numbers, numbers.max(), numbers.min()"
   ]
  },
  {
   "cell_type": "code",
   "execution_count": 150,
   "metadata": {},
   "outputs": [],
   "source": [
    "def findmax(arr):\n",
    "    maxvalue = arr[0]\n",
    "    for i in arr:\n",
    "        if maxvalue < i:\n",
    "            maxvalue = i\n",
    "    return maxvalue"
   ]
  },
  {
   "cell_type": "code",
   "execution_count": 151,
   "metadata": {},
   "outputs": [
    {
     "data": {
      "text/plain": [
       "72"
      ]
     },
     "execution_count": 151,
     "metadata": {},
     "output_type": "execute_result"
    }
   ],
   "source": [
    "findmax(numbers)"
   ]
  },
  {
   "cell_type": "markdown",
   "metadata": {},
   "source": [
    "numbers: this is the array\n",
    "\n",
    "1. find the maximum and its location (index)\n",
    "2. put it at 0 location\n",
    "3. put the numbers[0] at the location of the maximum"
   ]
  },
  {
   "cell_type": "code",
   "execution_count": 152,
   "metadata": {},
   "outputs": [
    {
     "name": "stdout",
     "output_type": "stream",
     "text": [
      "(10,) 10 <class 'tuple'> <class 'int'>\n"
     ]
    }
   ],
   "source": [
    "print(numbers.shape, numbers.shape[0], type(numbers.shape), type(numbers.shape[0]))"
   ]
  },
  {
   "cell_type": "code",
   "execution_count": 153,
   "metadata": {},
   "outputs": [],
   "source": [
    "def find_max_and_index(arr):\n",
    "    maxvalue = arr[0]\n",
    "    index = 0\n",
    "    # for v in arr:\n",
    "    #     if maxvalue < v:\n",
    "    #         maxvalue = v\n",
    "    # return maxvalue\n",
    "    for k in range(arr.shape[0]):\n",
    "        if maxvalue < arr[k]:\n",
    "            maxvalue = arr[k]\n",
    "            index = k\n",
    "    return maxvalue, index"
   ]
  },
  {
   "cell_type": "code",
   "execution_count": 154,
   "metadata": {},
   "outputs": [
    {
     "name": "stdout",
     "output_type": "stream",
     "text": [
      "72 0\n"
     ]
    }
   ],
   "source": [
    "max_index = find_max_and_index(numbers)\n",
    "print(max_index[0], max_index[1])"
   ]
  },
  {
   "cell_type": "code",
   "execution_count": 155,
   "metadata": {},
   "outputs": [
    {
     "name": "stdout",
     "output_type": "stream",
     "text": [
      "72 0\n"
     ]
    }
   ],
   "source": [
    "max_value, max_index = find_max_and_index(numbers)\n",
    "print(max_value, max_index)"
   ]
  },
  {
   "cell_type": "code",
   "execution_count": 156,
   "metadata": {},
   "outputs": [],
   "source": [
    "def find_min_and_index(arr):\n",
    "    minvalue = arr[0]\n",
    "    index = 0\n",
    "    for j in range(arr.shape[0]):\n",
    "        if minvalue > arr[j]:\n",
    "            minvalue = arr[j]\n",
    "            index = j\n",
    "    return minvalue, index"
   ]
  },
  {
   "cell_type": "code",
   "execution_count": 157,
   "metadata": {},
   "outputs": [
    {
     "name": "stdout",
     "output_type": "stream",
     "text": [
      "5 6\n"
     ]
    }
   ],
   "source": [
    "min_index = find_min_and_index(numbers)\n",
    "print(min_index[0], min_index[1])"
   ]
  },
  {
   "cell_type": "code",
   "execution_count": 158,
   "metadata": {},
   "outputs": [
    {
     "name": "stdout",
     "output_type": "stream",
     "text": [
      "5 6\n"
     ]
    }
   ],
   "source": [
    "min_value, min_index = find_min_and_index(numbers)\n",
    "print(min_value, min_index)"
   ]
  }
 ],
 "metadata": {
  "kernelspec": {
   "display_name": "Python 3",
   "language": "python",
   "name": "python3"
  },
  "language_info": {
   "codemirror_mode": {
    "name": "ipython",
    "version": 3
   },
   "file_extension": ".py",
   "mimetype": "text/x-python",
   "name": "python",
   "nbconvert_exporter": "python",
   "pygments_lexer": "ipython3",
   "version": "3.12.2"
  }
 },
 "nbformat": 4,
 "nbformat_minor": 2
}
