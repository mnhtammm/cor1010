{
 "cells": [
  {
   "cell_type": "code",
   "execution_count": 52,
   "metadata": {},
   "outputs": [],
   "source": [
    "a = 1 #number\n",
    "b = 2.4 #float\n",
    "c = {'name': 'sogang', 'id': 2010} #dictionary type\n",
    "d = [ \"string\", 1, ]"
   ]
  },
  {
   "cell_type": "code",
   "execution_count": 79,
   "metadata": {},
   "outputs": [],
   "source": [
    "class MyDataType():\n",
    "    def __init__(self, name, age=22):\n",
    "        self.name = name\n",
    "        self.age = age\n",
    "        \n",
    "    def print(self):\n",
    "        print(\"My name: \", self.name)\n",
    "        print(\"My age: \", self.age)        \n"
   ]
  },
  {
   "cell_type": "code",
   "execution_count": 80,
   "metadata": {},
   "outputs": [],
   "source": [
    "a = MyDataType(\"Dau thoi\", 13)\n",
    "b = MyDataType(\"Tam xinh\", 21)\n",
    "c = MyDataType(\"C Hanh\")"
   ]
  },
  {
   "cell_type": "code",
   "execution_count": 93,
   "metadata": {},
   "outputs": [
    {
     "name": "stdout",
     "output_type": "stream",
     "text": [
      "My name:  Batman\n",
      "My age:  33\n"
     ]
    }
   ],
   "source": [
    "d = MyDataType(age=33, name=\"Batman\")\n",
    "d.print()"
   ]
  },
  {
   "cell_type": "code",
   "execution_count": 83,
   "metadata": {},
   "outputs": [
    {
     "name": "stdout",
     "output_type": "stream",
     "text": [
      "Dau thoi Tam xinh\n"
     ]
    }
   ],
   "source": [
    "print(a.name, b.name)"
   ]
  },
  {
   "cell_type": "code",
   "execution_count": 84,
   "metadata": {},
   "outputs": [],
   "source": [
    "b.name = \"Tam xinh\"\n",
    "b.age = 21"
   ]
  },
  {
   "cell_type": "code",
   "execution_count": 85,
   "metadata": {},
   "outputs": [
    {
     "name": "stdout",
     "output_type": "stream",
     "text": [
      "Tam xinh 21\n"
     ]
    }
   ],
   "source": [
    "print(b.name, b.age)"
   ]
  },
  {
   "cell_type": "code",
   "execution_count": 86,
   "metadata": {},
   "outputs": [],
   "source": [
    "def myprint(myData):\n",
    "    print(\"name: \", myData.name)\n",
    "    print(\"age: \", myData.age)"
   ]
  },
  {
   "cell_type": "code",
   "execution_count": 87,
   "metadata": {},
   "outputs": [
    {
     "name": "stdout",
     "output_type": "stream",
     "text": [
      "name:  Dau thoi\n",
      "age:  13\n"
     ]
    }
   ],
   "source": [
    "myprint(a)"
   ]
  },
  {
   "cell_type": "code",
   "execution_count": 88,
   "metadata": {},
   "outputs": [
    {
     "name": "stdout",
     "output_type": "stream",
     "text": [
      "My name:  Dau thoi\n",
      "My age:  13\n"
     ]
    }
   ],
   "source": [
    "a.print()"
   ]
  },
  {
   "cell_type": "code",
   "execution_count": 89,
   "metadata": {},
   "outputs": [
    {
     "name": "stdout",
     "output_type": "stream",
     "text": [
      "My name:  Tam xinh\n",
      "My age:  21\n"
     ]
    }
   ],
   "source": [
    "b.print()"
   ]
  },
  {
   "cell_type": "code",
   "execution_count": 90,
   "metadata": {},
   "outputs": [
    {
     "name": "stdout",
     "output_type": "stream",
     "text": [
      "My name:  C Hanh\n",
      "My age:  22\n"
     ]
    }
   ],
   "source": [
    "c.print()"
   ]
  },
  {
   "cell_type": "code",
   "execution_count": null,
   "metadata": {},
   "outputs": [],
   "source": []
  }
 ],
 "metadata": {
  "kernelspec": {
   "display_name": "Python 3",
   "language": "python",
   "name": "python3"
  },
  "language_info": {
   "codemirror_mode": {
    "name": "ipython",
    "version": 3
   },
   "file_extension": ".py",
   "mimetype": "text/x-python",
   "name": "python",
   "nbconvert_exporter": "python",
   "pygments_lexer": "ipython3",
   "version": "3.12.2"
  }
 },
 "nbformat": 4,
 "nbformat_minor": 2
}
